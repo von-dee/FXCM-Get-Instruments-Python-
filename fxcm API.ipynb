{
 "cells": [
  {
   "cell_type": "code",
   "execution_count": null,
   "metadata": {},
   "outputs": [],
   "source": [
    "import fxcmpy TOKEN = YOUR_FXCM_TOKEN\n",
    "\n",
    "con = fxcmpy.fxcmpy(access_token = TOKEN, log_level = 'error')\n",
    "\n",
    "instruments = con.get_instruments()\n",
    "\n",
    "print(instruments[:5]) ['EUR/USD', 'USD/JPY', 'GBP/USD', 'USD/CHF', 'EUR/CHF']"
   ]
  }
 ],
 "metadata": {
  "kernelspec": {
   "display_name": "Python (zipline)",
   "language": "python",
   "name": "env_zipline"
  },
  "language_info": {
   "codemirror_mode": {
    "name": "ipython",
    "version": 3
   },
   "file_extension": ".py",
   "mimetype": "text/x-python",
   "name": "python",
   "nbconvert_exporter": "python",
   "pygments_lexer": "ipython3",
   "version": "3.5.6"
  }
 },
 "nbformat": 4,
 "nbformat_minor": 2
}
